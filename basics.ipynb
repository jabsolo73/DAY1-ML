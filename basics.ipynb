{
  "nbformat": 4,
  "nbformat_minor": 0,
  "metadata": {
    "colab": {
      "provenance": [],
      "authorship_tag": "ABX9TyMF09IMZUoWGBqmYy0+lmIh",
      "include_colab_link": true
    },
    "kernelspec": {
      "name": "python3",
      "display_name": "Python 3"
    },
    "language_info": {
      "name": "python"
    }
  },
  "cells": [
    {
      "cell_type": "markdown",
      "metadata": {
        "id": "view-in-github",
        "colab_type": "text"
      },
      "source": [
        "<a href=\"https://colab.research.google.com/github/jabsolo73/DAY1-ML/blob/main/basics.ipynb\" target=\"_parent\"><img src=\"https://colab.research.google.com/assets/colab-badge.svg\" alt=\"Open In Colab\"/></a>"
      ]
    },
    {
      "cell_type": "code",
      "source": [
        "print(\"hh\")"
      ],
      "metadata": {
        "colab": {
          "base_uri": "https://localhost:8080/"
        },
        "id": "DDWg5rvYhGF3",
        "outputId": "43fcb657-24d6-418e-ec82-3a80d6cf137d"
      },
      "execution_count": 1,
      "outputs": [
        {
          "output_type": "stream",
          "name": "stdout",
          "text": [
            "hh\n"
          ]
        }
      ]
    },
    {
      "cell_type": "code",
      "source": [
        "print(\"jabez \" * 55)"
      ],
      "metadata": {
        "colab": {
          "base_uri": "https://localhost:8080/"
        },
        "id": "fNGwT0i7hLmT",
        "outputId": "dadd952b-d302-45eb-8c6d-0b078b30d659"
      },
      "execution_count": 3,
      "outputs": [
        {
          "output_type": "stream",
          "name": "stdout",
          "text": [
            "jabez jabez jabez jabez jabez jabez jabez jabez jabez jabez jabez jabez jabez jabez jabez jabez jabez jabez jabez jabez jabez jabez jabez jabez jabez jabez jabez jabez jabez jabez jabez jabez jabez jabez jabez jabez jabez jabez jabez jabez jabez jabez jabez jabez jabez jabez jabez jabez jabez jabez jabez jabez jabez jabez jabez \n"
          ]
        }
      ]
    },
    {
      "cell_type": "code",
      "source": [
        "name = input(\"name? \")\n",
        "print(\"hi \" + name)"
      ],
      "metadata": {
        "colab": {
          "base_uri": "https://localhost:8080/"
        },
        "id": "vd_IJ6Vkh7aa",
        "outputId": "4a7cf3e1-0161-485a-8b76-884c8757ed8d"
      },
      "execution_count": 8,
      "outputs": [
        {
          "output_type": "stream",
          "name": "stdout",
          "text": [
            "name? jabez\n",
            "hi jabez\n"
          ]
        }
      ]
    },
    {
      "cell_type": "code",
      "source": [
        "name = input(\"name? \")\n",
        "new_color = input(\" name it \")\n",
        "print(name + \" likes \" + new_color)"
      ],
      "metadata": {
        "colab": {
          "base_uri": "https://localhost:8080/"
        },
        "id": "cBZeodQ0kZHP",
        "outputId": "b1142c3f-d4de-41bd-ffd0-1e6446913af7"
      },
      "execution_count": 10,
      "outputs": [
        {
          "output_type": "stream",
          "name": "stdout",
          "text": [
            "name? jabez\n",
            " name it blue\n",
            "jabez likes blue\n"
          ]
        }
      ]
    },
    {
      "cell_type": "code",
      "source": [
        "name = input(\"name \")\n",
        "your_age = int(input(\" hi\"))\n",
        "age  = 2019 - int(your_age)\n",
        "print(age)"
      ],
      "metadata": {
        "colab": {
          "base_uri": "https://localhost:8080/"
        },
        "id": "lvS21qZIlLpX",
        "outputId": "314a56b3-ef84-4b6c-9b8a-72f1d1068226"
      },
      "execution_count": 16,
      "outputs": [
        {
          "output_type": "stream",
          "name": "stdout",
          "text": [
            "name jabez\n",
            " hi9\n",
            "2010\n"
          ]
        }
      ]
    },
    {
      "cell_type": "code",
      "source": [
        "a= 10\n",
        "b=9\n",
        "if a ==b:\n",
        "  print(\"true\")\n",
        "else:\n",
        "  print(\"false\")"
      ],
      "metadata": {
        "colab": {
          "base_uri": "https://localhost:8080/"
        },
        "id": "6AQDRTLRn62z",
        "outputId": "c167013a-5211-4c14-f9de-10ecb4d1793a"
      },
      "execution_count": 19,
      "outputs": [
        {
          "output_type": "stream",
          "name": "stdout",
          "text": [
            "false\n"
          ]
        }
      ]
    },
    {
      "cell_type": "code",
      "source": [
        "a=9\n",
        "b=7\n",
        "c= b==a\n",
        "print(c)"
      ],
      "metadata": {
        "colab": {
          "base_uri": "https://localhost:8080/"
        },
        "id": "FUScKHAioh2J",
        "outputId": "8fcc8c8f-bcb3-4297-9c37-169be763b967"
      },
      "execution_count": 20,
      "outputs": [
        {
          "output_type": "stream",
          "name": "stdout",
          "text": [
            "False\n"
          ]
        }
      ]
    },
    {
      "cell_type": "code",
      "source": [
        "import random\n",
        "c = random.randint(4,99)\n",
        "print(c)"
      ],
      "metadata": {
        "colab": {
          "base_uri": "https://localhost:8080/"
        },
        "id": "c_QzlI6io_bT",
        "outputId": "00ce2691-9a6a-4d47-fe1d-d6ad08657520"
      },
      "execution_count": 21,
      "outputs": [
        {
          "output_type": "stream",
          "name": "stdout",
          "text": [
            "57\n"
          ]
        }
      ]
    },
    {
      "cell_type": "code",
      "source": [
        "#print multiple lines\n",
        "c = '''hi jabez,\n",
        "welcome to python\n",
        "have a good day.'''\n",
        "print(c)"
      ],
      "metadata": {
        "colab": {
          "base_uri": "https://localhost:8080/"
        },
        "id": "_7-F9wrMpUPO",
        "outputId": "b18af81f-096d-412a-aaf1-c7759db12076"
      },
      "execution_count": 24,
      "outputs": [
        {
          "output_type": "stream",
          "name": "stdout",
          "text": [
            "hi jabez,\n",
            "welcome to python\n",
            "have a good day.\n"
          ]
        }
      ]
    },
    {
      "cell_type": "code",
      "source": [
        "printf = \"pioytreww\"\n",
        "print(printf[-4])"
      ],
      "metadata": {
        "colab": {
          "base_uri": "https://localhost:8080/"
        },
        "id": "h-xgRohrjv-f",
        "outputId": "2978298e-c3ff-49c8-ab58-bef946b659e0"
      },
      "execution_count": 1,
      "outputs": [
        {
          "output_type": "stream",
          "name": "stdout",
          "text": [
            "r\n"
          ]
        }
      ]
    },
    {
      "cell_type": "code",
      "source": [
        "printf = \"pioytreww\"\n",
        "print(printf[2:-3])"
      ],
      "metadata": {
        "colab": {
          "base_uri": "https://localhost:8080/"
        },
        "id": "wkpFfKtEkAV-",
        "outputId": "4f99736b-fa69-4bde-dab2-4811a675f9a0"
      },
      "execution_count": 4,
      "outputs": [
        {
          "output_type": "stream",
          "name": "stdout",
          "text": [
            "oytr\n"
          ]
        }
      ]
    },
    {
      "cell_type": "code",
      "source": [
        "printf = \"pioytreww\"\n",
        "print(printf[:])"
      ],
      "metadata": {
        "colab": {
          "base_uri": "https://localhost:8080/"
        },
        "id": "pQAE3qmFqU4o",
        "outputId": "c5916dd4-a07a-488f-e436-dfce09e5d0a2"
      },
      "execution_count": 6,
      "outputs": [
        {
          "output_type": "stream",
          "name": "stdout",
          "text": [
            "pioytreww\n"
          ]
        }
      ]
    },
    {
      "cell_type": "code",
      "source": [
        "first = \"jabez\"\n",
        "last = \" solomon\"\n",
        "joint = first + ' is ' + last\n",
        "print(joint)"
      ],
      "metadata": {
        "colab": {
          "base_uri": "https://localhost:8080/"
        },
        "id": "xxZLraUEqjoe",
        "outputId": "1993edab-f51e-417d-9b65-01d8b01bc76f"
      },
      "execution_count": 7,
      "outputs": [
        {
          "output_type": "stream",
          "name": "stdout",
          "text": [
            "jabez is  solomon\n"
          ]
        }
      ]
    },
    {
      "cell_type": "code",
      "source": [
        "first = \"jabez\"\n",
        "last = \" solomon\"\n",
        "joint = f' {first} [{last}] is a coder'\n",
        "print(joint)"
      ],
      "metadata": {
        "colab": {
          "base_uri": "https://localhost:8080/"
        },
        "id": "ZggEe9tRrkUJ",
        "outputId": "c87c3d3a-7698-40da-8097-4a2c61d771b5"
      },
      "execution_count": 12,
      "outputs": [
        {
          "output_type": "stream",
          "name": "stdout",
          "text": [
            " jabez [ solomon] is a coder\n"
          ]
        }
      ]
    },
    {
      "cell_type": "code",
      "source": [
        "first = \"abcdefghi\"\n",
        "second = len(first)\n",
        "print(second)"
      ],
      "metadata": {
        "colab": {
          "base_uri": "https://localhost:8080/"
        },
        "id": "ymslSItYsWuG",
        "outputId": "d5e3996b-f4e9-4c5b-f32f-c73686233142"
      },
      "execution_count": 13,
      "outputs": [
        {
          "output_type": "stream",
          "name": "stdout",
          "text": [
            "9\n"
          ]
        }
      ]
    },
    {
      "cell_type": "code",
      "source": [
        "first = (\"joel\")\n",
        "print(first.upper())"
      ],
      "metadata": {
        "colab": {
          "base_uri": "https://localhost:8080/"
        },
        "id": "b6nJcYiMtzYc",
        "outputId": "8c80000d-c58b-4eac-b326-1e4e86caa7cf"
      },
      "execution_count": 15,
      "outputs": [
        {
          "output_type": "stream",
          "name": "stdout",
          "text": [
            "JOEL\n"
          ]
        }
      ]
    },
    {
      "cell_type": "code",
      "source": [
        "first = (\"joel\")\n",
        "print(first.find('j'))"
      ],
      "metadata": {
        "colab": {
          "base_uri": "https://localhost:8080/"
        },
        "id": "Za2tKm7SuV8d",
        "outputId": "af158b6e-5450-4053-e8c6-968847d9d739"
      },
      "execution_count": 17,
      "outputs": [
        {
          "output_type": "stream",
          "name": "stdout",
          "text": [
            "0\n"
          ]
        }
      ]
    },
    {
      "cell_type": "code",
      "source": [
        "first = (\"joel\")\n",
        "print(first.replace('j', \"h\"))"
      ],
      "metadata": {
        "colab": {
          "base_uri": "https://localhost:8080/"
        },
        "id": "o4ReogfYumBb",
        "outputId": "3508fc52-2099-4ca9-90b0-21c926702441"
      },
      "execution_count": 18,
      "outputs": [
        {
          "output_type": "stream",
          "name": "stdout",
          "text": [
            "hoel\n"
          ]
        }
      ]
    },
    {
      "cell_type": "code",
      "source": [
        "first = (\"joel\")\n",
        "print('joel' in first)"
      ],
      "metadata": {
        "colab": {
          "base_uri": "https://localhost:8080/"
        },
        "id": "W-QHpdbxu0Jb",
        "outputId": "7a324190-129a-4b91-83da-905bff8f46f3"
      },
      "execution_count": 19,
      "outputs": [
        {
          "output_type": "stream",
          "name": "stdout",
          "text": [
            "True\n"
          ]
        }
      ]
    },
    {
      "cell_type": "code",
      "source": [
        "first = (\"joel\")\n",
        "print(first.title())"
      ],
      "metadata": {
        "colab": {
          "base_uri": "https://localhost:8080/"
        },
        "id": "EdfYjANHvbVW",
        "outputId": "fe359c63-ad1d-457e-b4e6-c6cf68f772e6"
      },
      "execution_count": 20,
      "outputs": [
        {
          "output_type": "stream",
          "name": "stdout",
          "text": [
            "Joel\n"
          ]
        }
      ]
    },
    {
      "cell_type": "code",
      "source": [
        "x= 10\n",
        "x = x + 10\n",
        "print(x)"
      ],
      "metadata": {
        "colab": {
          "base_uri": "https://localhost:8080/"
        },
        "id": "va7iy-4PwETl",
        "outputId": "11e2d344-cf8b-417c-c417-f2b748c965a1"
      },
      "execution_count": 21,
      "outputs": [
        {
          "output_type": "stream",
          "name": "stdout",
          "text": [
            "20\n"
          ]
        }
      ]
    },
    {
      "cell_type": "code",
      "source": [
        "x= 10\n",
        "x +=10\n",
        "print(x)"
      ],
      "metadata": {
        "colab": {
          "base_uri": "https://localhost:8080/"
        },
        "id": "FBOiXaq7wrhX",
        "outputId": "ba0271da-2525-4487-da37-ece602abb9cf"
      },
      "execution_count": 22,
      "outputs": [
        {
          "output_type": "stream",
          "name": "stdout",
          "text": [
            "20\n"
          ]
        }
      ]
    },
    {
      "cell_type": "code",
      "source": [
        "x = 10\n",
        "x = (9+1) * 8 -1\n",
        "print(x)"
      ],
      "metadata": {
        "colab": {
          "base_uri": "https://localhost:8080/"
        },
        "id": "PbKs-IWXxNwy",
        "outputId": "0b39ff5a-c3a3-4857-9d2c-f8993fcdaa62"
      },
      "execution_count": 23,
      "outputs": [
        {
          "output_type": "stream",
          "name": "stdout",
          "text": [
            "79\n"
          ]
        }
      ]
    },
    {
      "cell_type": "code",
      "source": [],
      "metadata": {
        "id": "7oto2FUE3CHm"
      },
      "execution_count": null,
      "outputs": []
    }
  ]
}