{
  "nbformat": 4,
  "nbformat_minor": 0,
  "metadata": {
    "colab": {
      "name": "Untitled5.ipynb",
      "provenance": [],
      "include_colab_link": true
    },
    "kernelspec": {
      "name": "python3",
      "display_name": "Python 3"
    },
    "language_info": {
      "name": "python"
    }
  },
  "cells": [
    {
      "cell_type": "markdown",
      "metadata": {
        "id": "view-in-github",
        "colab_type": "text"
      },
      "source": [
        "<a href=\"https://colab.research.google.com/github/jabsolo73/DAY1-ML/blob/main/sms%20sender.ipynb\" target=\"_parent\"><img src=\"https://colab.research.google.com/assets/colab-badge.svg\" alt=\"Open In Colab\"/></a>"
      ]
    },
    {
      "cell_type": "code",
      "execution_count": null,
      "metadata": {
        "colab": {
          "base_uri": "https://localhost:8080/"
        },
        "id": "emp5_jUABzt9",
        "outputId": "a7616521-2040-4552-ffc2-5ea80c0e463d"
      },
      "outputs": [
        {
          "output_type": "stream",
          "name": "stdout",
          "text": [
            "Looking in indexes: https://pypi.org/simple, https://us-python.pkg.dev/colab-wheels/public/simple/\n",
            "Collecting phonenumbers\n",
            "  Downloading phonenumbers-8.12.52-py2.py3-none-any.whl (2.6 MB)\n",
            "\u001b[K     |████████████████████████████████| 2.6 MB 39.5 MB/s \n",
            "\u001b[?25hInstalling collected packages: phonenumbers\n",
            "Successfully installed phonenumbers-8.12.52\n"
          ]
        }
      ],
      "source": [
        "pip install phonenumbers\n"
      ]
    },
    {
      "cell_type": "code",
      "source": [
        "import phonenumbers\n",
        "from phonenumbers import carrier, geocoder, timezone\n",
        "\n",
        "mobileNo=input(\"Mobile no. with country code:\")\n",
        "mobileNo=phonenumbers.parse(mobileNo)\n",
        "print(timezone.time_zones_for_number(mobileNo))\n",
        "print(carrier.name_for_number(mobileNo,\"en\"))\n",
        "print(geocoder.description_for_number(mobileNo,\"en\"))\n",
        "print(\"Valid Mobile Number:\",phonenumbers.is_valid_number(mobileNo))\n",
        "print(\"Checking possibility of Number:\",phonenumbers.is_possible_number(mobileNo))\n"
      ],
      "metadata": {
        "colab": {
          "base_uri": "https://localhost:8080/"
        },
        "id": "o-5lWWpACKU-",
        "outputId": "ed6f8cd4-5881-4cea-cefa-ba1b7a5a6141"
      },
      "execution_count": null,
      "outputs": [
        {
          "output_type": "stream",
          "name": "stdout",
          "text": [
            "Mobile no. with country code:+91 7358660577\n",
            "('Asia/Calcutta',)\n",
            "Airtel\n",
            "India\n",
            "Valid Mobile Number: True\n",
            "Checking possibility of Number: True\n"
          ]
        }
      ]
    },
    {
      "cell_type": "code",
      "source": [
        "pip install twilio>=6.0.0\n"
      ],
      "metadata": {
        "id": "Sh74HTz5COfR"
      },
      "execution_count": null,
      "outputs": []
    },
    {
      "cell_type": "code",
      "source": [
        "# we import the Twilio client from the dependency we just installed\n",
        "from twilio.rest import Client\n",
        "\n",
        "# the following line needs your Twilio Account SID and Auth Token\n",
        "client = Client(\"ACebfe61690f775ede53cbc558c538d755\", \"44974cff0e4f225bd38f690822e0662a\")\n",
        "\n",
        "# change the \"from_\" number to your Twilio number and the \"to\" number\n",
        "# to the phone number you signed up for Twilio with, or upgrade your\n",
        "# account to send SMS to any phone number\n",
        "client.messages.create(to=\"+917358660577\", \n",
        "                       from_=\"+16592342541\", \n",
        "                       body=\"Hello from Python!\")"
      ],
      "metadata": {
        "id": "_8tdc6iWEcO7",
        "colab": {
          "base_uri": "https://localhost:8080/"
        },
        "outputId": "7dc4f5fc-6d85-4902-f813-cf16f66112e8"
      },
      "execution_count": null,
      "outputs": [
        {
          "output_type": "execute_result",
          "data": {
            "text/plain": [
              "<Twilio.Api.V2010.MessageInstance account_sid=ACebfe61690f775ede53cbc558c538d755 sid=SMb900b077d0f94e4493eaf3ac4ff42ac5>"
            ]
          },
          "metadata": {},
          "execution_count": 9
        }
      ]
    },
    {
      "cell_type": "code",
      "source": [
        "import pickle\n",
        "import os\n",
        "import urllib\n",
        "import urllib.parse\n",
        "import urllib.request\n",
        "import time\n",
        "import ssl\n",
        "import sys\n",
        "def main():\n",
        "\tprint(\"\\033[H\\033[J\")\n",
        "\tmainmenu()\n",
        "def mainmenu():\n",
        "  if not os.path.exists('smssenderdb.pickle'):\n",
        "    print(\"\\033[1;33m1 STEP => SETUP API SETTINGS\\033[1;0m\")\n",
        "  choicest1 = input(\"\"\"     \n",
        "  \\x1B[32m _____ __  __  _____    _____ ______ _   _ _____  ______ _____  \n",
        "  / ____|  \\/  |/ ____|  / ____|  ____| \\ | |  __ \\|  ____|  __ \\ \n",
        " | (___ | \\  / | (___   | (___ | |__  |  \\| | |  | | |__  | |__) |\n",
        "  \\___ \\| |\\/| |\\___ \\   \\___ \\|  __| | . ` | |  | |  __| |  _  / \n",
        "  ____) | |  | |____) |  ____) | |____| |\\  | |__| | |____| | \\ \\ \n",
        " |_____/|_|  |_|_____/  |_____/|______|_| \\_|_____/|______|_|  \\_\\ \\033[1;0m\n",
        "                                                  \n",
        "           \\033[42m\\033[1;30m================ main menu =================\\033[0;m\\n\n",
        "    1. Single SMS:   \n",
        "    2. Bulk SMS:     \n",
        "    3. API Settings: \n",
        "    4. Exit:         \n",
        "    \\33[104mPlease enter your choice [1-4]:\\033[1;0m \"\"\")\n",
        "  if choicest1 == \"1\":\n",
        "    print(\"\\033[H\\033[J\")\n",
        "    singlesms()\n",
        "  elif choicest1 == \"2\":\n",
        "     bulksms() \n",
        "  elif choicest1 == \"3\":\n",
        "    print(\"\\033[H\\033[J\")\n",
        "    apisettings()\n",
        "  elif choicest1 == \"4\":\n",
        "     print(\"\\033[42m\\033[1;30m\t\tBye Bye! :)\\n\\033[1;0m\")\n",
        "     pass     \n",
        "  else: \n",
        "    print(\"\\033[H\\033[J\")\n",
        "    print(\"\\033[1;33mYou must only select either [1-4]\")\n",
        "    print(\"Please try again\\033[1;0m\")\n",
        "    mainmenu()\n",
        "def apisettings():\n",
        "  choicest = input(\"\"\"  \n",
        "   \\x1B[32m _____ __  __  _____    _____ ______ _   _ _____  ______ _____  \n",
        "  / ____|  \\/  |/ ____|  / ____|  ____| \\ | |  __ \\|  ____|  __ \\ \n",
        " | (___ | \\  / | (___   | (___ | |__  |  \\| | |  | | |__  | |__) |\n",
        "  \\___ \\| |\\/| |\\___ \\   \\___ \\|  __| | . ` | |  | |  __| |  _  / \n",
        "  ____) | |  | |____) |  ____) | |____| |\\  | |__| | |____| | \\ \\ \n",
        " |_____/|_|  |_|_____/  |_____/|______|_| \\_|_____/|______|_|  \\_\\ \\033[1;0m  \n",
        "          \\033[42m\\033[1;30m================ = Proovl.com API Settings =================\\033[1;0m\\n\n",
        "    1. Update Settings:\n",
        "    2. Go Back:\n",
        "    \\33[104mPlease enter your choice [1-2]:\\033[1;0m \"\"\")\n",
        "  if choicest == \"1\":\n",
        "          input_number = input(\"  1.Enter\\033[1;32m Proovl.com Phone number\\033[1;0m:\\n\")\n",
        "          input_userid = input(\"  2.Enter\\033[1;32m Proovl.com UserID\\033[1;0m:\\n\") \n",
        "          input_token = input(\"   3.Enter\\033[1;32m Proovl.com Token\\033[1;0m:\\n\") \n",
        "          try:\n",
        "              with open('smssenderdb.pickle', 'wb') as wfp:\n",
        "               pickle.dump((input_number, input_userid, input_token), wfp, protocol=pickle.HIGHEST_PROTOCOL)\n",
        "              print(\"\\033[H\\033[J\")\n",
        "              print(\"\\033[1;33m================ Saved! Current data: ================\\033[1;0m\")\n",
        "              with open('smssenderdb.pickle', 'rb') as rfp:\n",
        "               otput = pickle.load(rfp)\n",
        "              print(\"================ Number:\\033[1;33m \" + otput[0] + \"\\033[1;0m\")\n",
        "              print(\"================ UserID:\\033[1;33m \" + otput[1] + \"\\033[1;0m\")\n",
        "              print(\"================ Token:\\033[1;33m \" + otput[2] + \"\\033[1;0m\")       \n",
        "          except:\n",
        "              print(\"Something wrong. Check files permissions.\")\n",
        "          finally:\n",
        "              mainmenu()\n",
        "              return   \n",
        "  elif choicest == \"2\":\n",
        "    print(\"\\033[H\\033[J\")\n",
        "    mainmenu()                                 \n",
        "  else:\n",
        "           print(\"\\033[H\\033[J\")\n",
        "           print(\"\\033[1;33mYou must only select either [1-2]\")\n",
        "           print(\"Please try again\\033[1;0m\")\n",
        "           apisettings()\n",
        "\n",
        "def singlesms():\n",
        "  print (\"\"\" \n",
        "  \\x1B[32m _____ __  __  _____    _____ ______ _   _ _____  ______ _____  \n",
        "  / ____|  \\/  |/ ____|  / ____|  ____| \\ | |  __ \\|  ____|  __ \\ \n",
        " | (___ | \\  / | (___   | (___ | |__  |  \\| | |  | | |__  | |__) |\n",
        "  \\___ \\| |\\/| |\\___ \\   \\___ \\|  __| | . ` | |  | |  __| |  _  / \n",
        "  ____) | |  | |____) |  ____) | |____| |\\  | |__| | |____| | \\ \\ \n",
        " |_____/|_|  |_|_____/  |_____/|______|_| \\_|_____/|______|_|  \\_\\ \\033[1;0m\n",
        "  \"\"\")\n",
        "  try:\n",
        "              with open('smssenderdb.pickle', 'rb') as rfp:\n",
        "               otput = pickle.load(rfp)\n",
        "              from2 = otput[0]\n",
        "              user1 = otput[1]\n",
        "              token1 = otput[2]       \n",
        "  except:\n",
        "    print(\"\\033[1;33mAfter sending, please check Api settings. It can't be empty \\033[1;0m\")\n",
        "    from2 = \"44555555555\"\n",
        "    user1 = \"Empty\"\n",
        "    token1 = \"Empty\"\n",
        "\n",
        "  finally: \n",
        "    user = user1   # change ***** to your Proovl user ID\n",
        "    token = token1  # change ***** to your Proovl token\n",
        "    from_n = from2  # change ***** to your Proovl SMS number\n",
        "    print(\"\\033[1;33mSettings SID:\" + from_n + \" UID:\" + user + \" token:\" + token + \"\\033[1;0m\")\n",
        "    # to = \"**********\"    # change ***** to receiver number\n",
        "    # text = \"**********\"\n",
        "\n",
        "    input_var1 = input(\"Enter\\033[1;32m Phone number\\033[1;0m (with country code) and press Enter:\\n\")\n",
        "    input_var2 = input(\"Enter\\033[1;32m Text\\033[1;0m and press Enter:\\n: \")\n",
        "\n",
        "    print (\"You entered Number: \" + \"\\033[1;32m\" + input_var1 + \"\\033[1;0m\") \n",
        "    print (\"You entered Text: \" + \"\\033[1;32m\" + input_var2 + \"\\033[1;0m\") \n",
        "\n",
        "\n",
        "    url = \"https://www.proovl.com/api/send.php?\"\n",
        "    hdr = { 'User-Agent' : 'Mozilla/5.0 (Windows NT 6.1; Win64; x64)' }\n",
        "    params = {       \n",
        "    \"user\": user,       \n",
        "    \"token\": token,       \n",
        "    \"from\": from_n,\n",
        "    \"to\": input_var1,\n",
        "    \"text\": input_var2} \n",
        "    try:\n",
        "        _create_unverified_https_context = ssl._create_unverified_context\n",
        "    except AttributeError:\n",
        "        pass\n",
        "    else:\n",
        "        ssl._create_default_https_context = _create_unverified_https_context\n",
        "        query_string = urllib.parse.urlencode(params)      \n",
        "        http_req = url + query_string \n",
        "        req = urllib.request.Request(http_req, headers=hdr)\n",
        "        f = urllib.request.urlopen(req)\n",
        "        txt = (f.read().decode('utf-8'))\n",
        "        x = txt.split(\";\")\n",
        "        g = x[1].replace(\"\\\"\",\"\")\n",
        "        y = x[0].replace(\"\\\"\",\"\")\n",
        "    if x[0] == \"Error\":\n",
        "\n",
        "      print(\"\\033[1;31m[Error message]\\033[1;0m:\",x[1])\n",
        "    else:\n",
        "      print(\"\\033[1;32m[Message has been sent!]\\033[1;0m ID:\",x[1])\n",
        "    f.close()\n",
        "    if input(\"\\033[1;33mSend new message? (Y/N)\\033[1;0m\").strip().upper() != 'Y':\n",
        "      print(\"\\033[H\\033[J\")\n",
        "      mainmenu()\n",
        "      return\n",
        "    else:\n",
        "      print(\"\\033[H\\033[J\")\n",
        "      singlesms()\n",
        "\n",
        "def bulksms():\n",
        "  print(\"\\033[H\\033[J\")\n",
        "  print (\"\"\" \n",
        "  \\x1B[32m _____ __  __  _____    _____ ______ _   _ _____  ______ _____  \n",
        "  / ____|  \\/  |/ ____|  / ____|  ____| \\ | |  __ \\|  ____|  __ \\ \n",
        " | (___ | \\  / | (___   | (___ | |__  |  \\| | |  | | |__  | |__) |\n",
        "  \\___ \\| |\\/| |\\___ \\   \\___ \\|  __| | . ` | |  | |  __| |  _  / \n",
        "  ____) | |  | |____) |  ____) | |____| |\\  | |__| | |____| | \\ \\ \n",
        " |_____/|_|  |_|_____/  |_____/|______|_| \\_|_____/|______|_|  \\_\\ \\033[1;0m\n",
        "  \"\"\")  \n",
        "  try:\n",
        "              with open('smssenderdb.pickle', 'rb') as rfp:\n",
        "               otput = pickle.load(rfp)\n",
        "              from2 = otput[0]\n",
        "              user1 = otput[1]\n",
        "              token1 = otput[2]       \n",
        "  except:\n",
        "    print(\"\\033[1;33mAfter sending, please check Api settings. It can't be empty \\033[1;0m\")\n",
        "    from2 = \"44555555555\"\n",
        "    user1 = \"Empty\"\n",
        "    token1 = \"Empty\"\n",
        "\n",
        "  finally:   \n",
        "    user = user1   # change ***** to your Proovl user ID\n",
        "    token = token1   # change ***** to your Proovl token\n",
        "    from1 = from2  # change ***** to your Proovl SMS number\n",
        "    print(\"\\033[1;33mSettings SID:\" + from1 + \" UID:\" + user + \" token:\" + token + \"\\033[1;0m\")\n",
        "    int_string = input(\"Enter phone numbers, separated by comma: \\n\")\n",
        "    input_string2 = input(\"Enter\\033[1;32m Text\\033[1;0m and press Enter: \\n\")\n",
        "    numbers = int_string.split(\",\")\n",
        "\n",
        "    messagesSent = 0\n",
        "    host = \"https://www.proovl.com/api/send.php?\"\n",
        "    hdr = { 'User-Agent' : 'Mozilla/5.0 (Windows NT 6.1; Win64; x64)' }\n",
        "    for x in numbers:\n",
        "      messagesSent += 1\n",
        "      params = {\n",
        "      \"user\": user,       \n",
        "      \"token\": token,\n",
        "      \"from\": from1,\n",
        "      \"text\": input_string2,\n",
        "      \"to\": x}\n",
        "      try:\n",
        "        _create_unverified_https_context = ssl._create_unverified_context\n",
        "      except AttributeError:\n",
        "        pass\n",
        "      else:\n",
        "        ssl._create_default_https_context = _create_unverified_https_context\n",
        "      query_string = urllib.parse.urlencode(params)   \n",
        "      http_req = host + query_string\n",
        "      req = urllib.request.Request(http_req, headers=hdr)\n",
        "      f = urllib.request.urlopen(req)\n",
        "      txt = (f.read().decode('utf-8'))\n",
        "      z = txt.split(\";\")\n",
        "      time.sleep(0.5)\n",
        "      print(\"Progress: {}/{}\".format(messagesSent, len(numbers)), (x),(\"\\33[101m\" + z[1] + \"\\033[1;0m\"))\n",
        "    if z[0] == \"Error\":\n",
        "      print(\"== Error. Text messages not sent ==\")\n",
        "    else:\n",
        "      print(\"== All messages has been sent! ==\")\n",
        "    f.close()\n",
        "    if input(\"\\033[1;33mSend new message? (Y/N)\\033[1;0m\").strip().upper() != 'Y':\n",
        "      print(\"\\033[H\\033[J\")\n",
        "      mainmenu()\n",
        "      return\n",
        "    else:\n",
        "      print(\"\\033[H\\033[J\")\n",
        "      bulksms()\n",
        "      \n",
        "main()"
      ],
      "metadata": {
        "colab": {
          "base_uri": "https://localhost:8080/"
        },
        "id": "YOaSdrfBO78Z",
        "outputId": "ba4a32e1-ac65-452b-cb35-38a134c0fcd5"
      },
      "execution_count": null,
      "outputs": [
        {
          "name": "stdout",
          "output_type": "stream",
          "text": [
            "\u001b[H\u001b[J\n",
            "\u001b[1;33m1 STEP => SETUP API SETTINGS\u001b[1;0m\n",
            "     \n",
            "  \u001b[32m _____ __  __  _____    _____ ______ _   _ _____  ______ _____  \n",
            "  / ____|  \\/  |/ ____|  / ____|  ____| \\ | |  __ \\|  ____|  __ \\ \n",
            " | (___ | \\  / | (___   | (___ | |__  |  \\| | |  | | |__  | |__) |\n",
            "  \\___ \\| |\\/| |\\___ \\   \\___ \\|  __| | . ` | |  | |  __| |  _  / \n",
            "  ____) | |  | |____) |  ____) | |____| |\\  | |__| | |____| | \\ \\ \n",
            " |_____/|_|  |_|_____/  |_____/|______|_| \\_|_____/|______|_|  \\_\\ \u001b[1;0m\n",
            "                                                  \n",
            "           \u001b[42m\u001b[1;30m================ main menu =================\u001b[0;m\n",
            "\n",
            "    1. Single SMS:   \n",
            "    2. Bulk SMS:     \n",
            "    3. API Settings: \n",
            "    4. Exit:         \n",
            "    \u001b[104mPlease enter your choice [1-4]:\u001b[1;0m 3\n",
            "\u001b[H\u001b[J\n",
            "  \n",
            "   \u001b[32m _____ __  __  _____    _____ ______ _   _ _____  ______ _____  \n",
            "  / ____|  \\/  |/ ____|  / ____|  ____| \\ | |  __ \\|  ____|  __ \\ \n",
            " | (___ | \\  / | (___   | (___ | |__  |  \\| | |  | | |__  | |__) |\n",
            "  \\___ \\| |\\/| |\\___ \\   \\___ \\|  __| | . ` | |  | |  __| |  _  / \n",
            "  ____) | |  | |____) |  ____) | |____| |\\  | |__| | |____| | \\ \\ \n",
            " |_____/|_|  |_|_____/  |_____/|______|_| \\_|_____/|______|_|  \\_\\ \u001b[1;0m  \n",
            "          \u001b[42m\u001b[1;30m================ = Proovl.com API Settings =================\u001b[1;0m\n",
            "\n",
            "    1. Update Settings:\n",
            "    2. Go Back:\n",
            "    \u001b[104mPlease enter your choice [1-2]:\u001b[1;0m 1\n"
          ]
        }
      ]
    },
    {
      "cell_type": "code",
      "source": [
        ""
      ],
      "metadata": {
        "id": "Czuy8TwnPNs8"
      },
      "execution_count": null,
      "outputs": []
    }
  ]
}