{
  "nbformat": 4,
  "nbformat_minor": 0,
  "metadata": {
    "colab": {
      "name": "Welcome To Colaboratory",
      "provenance": [],
      "collapsed_sections": [],
      "toc_visible": true,
      "include_colab_link": true
    },
    "kernelspec": {
      "display_name": "Python 3",
      "name": "python3"
    }
  },
  "cells": [
    {
      "cell_type": "markdown",
      "metadata": {
        "id": "view-in-github",
        "colab_type": "text"
      },
      "source": [
        "<a href=\"https://colab.research.google.com/github/jabsolo73/DAY1-ML/blob/main/Welcome_To_Colaboratory.ipynb\" target=\"_parent\"><img src=\"https://colab.research.google.com/assets/colab-badge.svg\" alt=\"Open In Colab\"/></a>"
      ]
    },
    {
      "cell_type": "code",
      "metadata": {
        "id": "Z21dZ5sAS-bO",
        "outputId": "b859b08c-d46f-4a1c-f445-3616a81fda52",
        "colab": {
          "base_uri": "https://localhost:8080/"
        }
      },
      "source": [
        "import numpy as np\n",
        "arr=np.array([1,2,3])\n",
        "print(arr)"
      ],
      "execution_count": 2,
      "outputs": [
        {
          "output_type": "stream",
          "text": [
            "[1 2 3]\n"
          ],
          "name": "stdout"
        }
      ]
    },
    {
      "cell_type": "code",
      "metadata": {
        "id": "97auXao1ThB4",
        "outputId": "ec1294de-4b28-4524-d7b2-95380e04e331",
        "colab": {
          "base_uri": "https://localhost:8080/"
        }
      },
      "source": [
        "type(arr)"
      ],
      "execution_count": 4,
      "outputs": [
        {
          "output_type": "execute_result",
          "data": {
            "text/plain": [
              "numpy.ndarray"
            ]
          },
          "metadata": {
            "tags": []
          },
          "execution_count": 4
        }
      ]
    },
    {
      "cell_type": "code",
      "metadata": {
        "id": "OZizYrWSTkDz",
        "outputId": "7ebc0871-b236-407f-b1fa-648da5b04e0e",
        "colab": {
          "base_uri": "https://localhost:8080/"
        }
      },
      "source": [
        "arr1=np.zeros((2,2))\n",
        "print(arr1)"
      ],
      "execution_count": 5,
      "outputs": [
        {
          "output_type": "stream",
          "text": [
            "[[0. 0.]\n",
            " [0. 0.]]\n"
          ],
          "name": "stdout"
        }
      ]
    },
    {
      "cell_type": "code",
      "metadata": {
        "id": "DNhCQWbET5d_",
        "outputId": "4c38d266-8153-4cba-ed1a-632f1308b3a2",
        "colab": {
          "base_uri": "https://localhost:8080/"
        }
      },
      "source": [
        "arr3=np.array([[4, 7 ,6],\n",
        "             [7  ,7 ,9],\n",
        "             [7  ,8 ,4]])\n",
        "print(arr3)"
      ],
      "execution_count": 10,
      "outputs": [
        {
          "output_type": "stream",
          "text": [
            "[[4 7 6]\n",
            " [7 7 9]\n",
            " [7 8 4]]\n"
          ],
          "name": "stdout"
        }
      ]
    },
    {
      "cell_type": "code",
      "metadata": {
        "id": "1pGlT8qdVytW",
        "outputId": "96de0f3f-9377-4a47-d20b-a3b9970e5eb6",
        "colab": {
          "base_uri": "https://localhost:8080/"
        }
      },
      "source": [
        " arr3 [2,0]\n"
      ],
      "execution_count": 17,
      "outputs": [
        {
          "output_type": "execute_result",
          "data": {
            "text/plain": [
              "7"
            ]
          },
          "metadata": {
            "tags": []
          },
          "execution_count": 17
        }
      ]
    },
    {
      "cell_type": "code",
      "metadata": {
        "id": "UC0SQ7NBW1hk",
        "outputId": "3c1d510b-d8c5-49f0-fecc-f502dd809497",
        "colab": {
          "base_uri": "https://localhost:8080/"
        }
      },
      "source": [
        "arr3 [2,2]"
      ],
      "execution_count": 19,
      "outputs": [
        {
          "output_type": "execute_result",
          "data": {
            "text/plain": [
              "4"
            ]
          },
          "metadata": {
            "tags": []
          },
          "execution_count": 19
        }
      ]
    },
    {
      "cell_type": "code",
      "metadata": {
        "id": "iXh4z4ZSXYW-",
        "outputId": "25766daa-d4de-4a46-cb34-6e2462606054",
        "colab": {
          "base_uri": "https://localhost:8080/"
        }
      },
      "source": [
        "np.random.rand(3,2)\n"
      ],
      "execution_count": 21,
      "outputs": [
        {
          "output_type": "execute_result",
          "data": {
            "text/plain": [
              "array([[0.52629306, 0.71949302],\n",
              "       [0.23490462, 0.82218093],\n",
              "       [0.6113558 , 0.25073914]])"
            ]
          },
          "metadata": {
            "tags": []
          },
          "execution_count": 21
        }
      ]
    },
    {
      "cell_type": "code",
      "metadata": {
        "id": "20_t--PNXeum",
        "outputId": "8f6e4c8b-3d62-4931-d885-d50fcd439f38",
        "colab": {
          "base_uri": "https://localhost:8080/"
        }
      },
      "source": [
        "arr1=np.random.rand(1,2)\n",
        "arr2=np.random.rand(3,1)\n",
        "arr3=np.add(arr1,arr2)\n",
        "print(arr3)"
      ],
      "execution_count": 23,
      "outputs": [
        {
          "output_type": "stream",
          "text": [
            "[[1.24475731 1.46732546]\n",
            " [1.6270862  1.84965434]\n",
            " [0.86600484 1.08857298]]\n"
          ],
          "name": "stdout"
        }
      ]
    },
    {
      "cell_type": "code",
      "metadata": {
        "id": "c8lIzE8kX3g2",
        "outputId": "7100d0df-b82f-4027-ef45-4b98331c75cd",
        "colab": {
          "base_uri": "https://localhost:8080/"
        }
      },
      "source": [
        "a=[1,2,3,4,True,'jer',2,3,4,5,6,76,5,4,4,4,4,4,4,4,3,2,]\n",
        "a[0:16:2]"
      ],
      "execution_count": 34,
      "outputs": [
        {
          "output_type": "execute_result",
          "data": {
            "text/plain": [
              "[1, 3, True, 2, 4, 6, 5, 4]"
            ]
          },
          "metadata": {
            "tags": []
          },
          "execution_count": 34
        }
      ]
    },
    {
      "cell_type": "code",
      "metadata": {
        "id": "HVK8Q5q8Y9bc"
      },
      "source": [
        "a.reverse()"
      ],
      "execution_count": 38,
      "outputs": []
    },
    {
      "cell_type": "code",
      "metadata": {
        "id": "1HN_MMPSZFyz",
        "outputId": "6a2a50aa-63ce-4daa-ec3f-2fe8b223f710",
        "colab": {
          "base_uri": "https://localhost:8080/"
        }
      },
      "source": [
        "a"
      ],
      "execution_count": 40,
      "outputs": [
        {
          "output_type": "execute_result",
          "data": {
            "text/plain": [
              "[1, 2, 3, 4, True, 'jer', 2, 3, 4, 5, 6, 76, 5, 4, 4, 4, 4, 4, 4, 4, 3, 2]"
            ]
          },
          "metadata": {
            "tags": []
          },
          "execution_count": 40
        }
      ]
    }
  ]
}